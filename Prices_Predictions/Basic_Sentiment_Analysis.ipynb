{
  "nbformat": 4,
  "nbformat_minor": 0,
  "metadata": {
    "colab": {
      "name": "Basic_Sentiment_Analysis.ipynb",
      "provenance": [],
      "collapsed_sections": []
    },
    "kernelspec": {
      "name": "python3",
      "display_name": "Python 3"
    },
    "language_info": {
      "name": "python"
    }
  },
  "cells": [
    {
      "cell_type": "code",
      "metadata": {
        "colab": {
          "base_uri": "https://localhost:8080/"
        },
        "id": "ll0n2bSXFt4d",
        "outputId": "a1924c7a-9b33-45db-af2b-26fe7b77d4e9"
      },
      "source": [
        "from urllib.request import urlopen, Request\n",
        "from bs4 import BeautifulSoup\n",
        "import nltk\n",
        "nltk.download('vader_lexicon')\n",
        "from nltk.sentiment.vader import SentimentIntensityAnalyzer\n",
        "import pandas as pd\n",
        "import matplotlib.pyplot as plt\n",
        "import datetime as dt"
      ],
      "execution_count": null,
      "outputs": [
        {
          "output_type": "stream",
          "text": [
            "[nltk_data] Downloading package vader_lexicon to /root/nltk_data...\n",
            "[nltk_data]   Package vader_lexicon is already up-to-date!\n"
          ],
          "name": "stdout"
        }
      ]
    },
    {
      "cell_type": "code",
      "metadata": {
        "id": "j1U69dh1Ra5E"
      },
      "source": [
        "finviz_url = 'https://finviz.com/quote.ashx?t='\n",
        "tickers = ['FB', 'AMZN', 'AAPL', 'GOOGL', 'TSLA']"
      ],
      "execution_count": null,
      "outputs": []
    },
    {
      "cell_type": "code",
      "metadata": {
        "id": "V4sQwqMfO20K"
      },
      "source": [
        "news_tables = {}\n",
        "for ticker in tickers:\n",
        "    url = finviz_url + ticker\n",
        "\n",
        "    req = Request(url=url, headers={'user-agent': 'my-app'})\n",
        "    response = urlopen(req)\n",
        "\n",
        "    html = BeautifulSoup(response, features='html.parser')\n",
        "    news_table = html.find(id='news-table')\n",
        "    news_tables[ticker] = news_table\n",
        "\n",
        "# print(news_tables)"
      ],
      "execution_count": null,
      "outputs": []
    },
    {
      "cell_type": "code",
      "metadata": {
        "colab": {
          "base_uri": "https://localhost:8080/"
        },
        "id": "FqakHE-IP2Oi",
        "outputId": "1cfce8b1-35f3-40de-af75-ab605ec931fb"
      },
      "source": [
        "parsed_data = []\n",
        "\n",
        "for ticker, news_table in news_tables.items():\n",
        "\n",
        "    for row in news_table.findAll('tr'):\n",
        "\n",
        "        title = row.a.text\n",
        "        date_data = row.td.text.split(' ')\n",
        "\n",
        "        if len(date_data) == 1:\n",
        "            time = date_data[0]\n",
        "        else:\n",
        "            date = date_data[0]\n",
        "            time = date_data[1]\n",
        "\n",
        "        parsed_data.append([ticker, date, time, title])\n",
        "\n",
        "parsed_data[:4]"
      ],
      "execution_count": null,
      "outputs": [
        {
          "output_type": "execute_result",
          "data": {
            "text/plain": [
              "[['FB',\n",
              "  'Apr-09-21',\n",
              "  '11:20PM\\xa0\\xa0',\n",
              "  'Top 10 S&P 500 Stocks by Index Weight'],\n",
              " ['FB', 'Apr-09-21', '08:04PM\\xa0\\xa0', 'Facebook: The Classic Toll Bridge'],\n",
              " ['FB',\n",
              "  'Apr-09-21',\n",
              "  '06:50PM\\xa0\\xa0',\n",
              "  'These Are The 5 Best Stocks To Buy And Watch Now'],\n",
              " ['FB',\n",
              "  'Apr-09-21',\n",
              "  '04:47PM\\xa0\\xa0',\n",
              "  'Facebook algorithm shows its users different job ads based on gender, study finds']]"
            ]
          },
          "metadata": {
            "tags": []
          },
          "execution_count": 8
        }
      ]
    },
    {
      "cell_type": "code",
      "metadata": {
        "colab": {
          "base_uri": "https://localhost:8080/",
          "height": 433
        },
        "id": "BWCb5wagQFWA",
        "outputId": "f057b401-6157-437a-a7be-e9d2d296647b"
      },
      "source": [
        "df = pd.DataFrame(parsed_data, columns=['ticker', 'date', 'time', 'title'])\n",
        "df"
      ],
      "execution_count": null,
      "outputs": [
        {
          "output_type": "execute_result",
          "data": {
            "text/html": [
              "<div>\n",
              "<style scoped>\n",
              "    .dataframe tbody tr th:only-of-type {\n",
              "        vertical-align: middle;\n",
              "    }\n",
              "\n",
              "    .dataframe tbody tr th {\n",
              "        vertical-align: top;\n",
              "    }\n",
              "\n",
              "    .dataframe thead th {\n",
              "        text-align: right;\n",
              "    }\n",
              "</style>\n",
              "<table border=\"1\" class=\"dataframe\">\n",
              "  <thead>\n",
              "    <tr style=\"text-align: right;\">\n",
              "      <th></th>\n",
              "      <th>ticker</th>\n",
              "      <th>date</th>\n",
              "      <th>time</th>\n",
              "      <th>title</th>\n",
              "    </tr>\n",
              "  </thead>\n",
              "  <tbody>\n",
              "    <tr>\n",
              "      <th>0</th>\n",
              "      <td>FB</td>\n",
              "      <td>Apr-09-21</td>\n",
              "      <td>11:20PM</td>\n",
              "      <td>Top 10 S&amp;P 500 Stocks by Index Weight</td>\n",
              "    </tr>\n",
              "    <tr>\n",
              "      <th>1</th>\n",
              "      <td>FB</td>\n",
              "      <td>Apr-09-21</td>\n",
              "      <td>08:04PM</td>\n",
              "      <td>Facebook: The Classic Toll Bridge</td>\n",
              "    </tr>\n",
              "    <tr>\n",
              "      <th>2</th>\n",
              "      <td>FB</td>\n",
              "      <td>Apr-09-21</td>\n",
              "      <td>06:50PM</td>\n",
              "      <td>These Are The 5 Best Stocks To Buy And Watch Now</td>\n",
              "    </tr>\n",
              "    <tr>\n",
              "      <th>3</th>\n",
              "      <td>FB</td>\n",
              "      <td>Apr-09-21</td>\n",
              "      <td>04:47PM</td>\n",
              "      <td>Facebook algorithm shows its users different j...</td>\n",
              "    </tr>\n",
              "    <tr>\n",
              "      <th>4</th>\n",
              "      <td>FB</td>\n",
              "      <td>Apr-09-21</td>\n",
              "      <td>11:45AM</td>\n",
              "      <td>Facebook Converts Part Of Menlo Park Headquart...</td>\n",
              "    </tr>\n",
              "    <tr>\n",
              "      <th>...</th>\n",
              "      <td>...</td>\n",
              "      <td>...</td>\n",
              "      <td>...</td>\n",
              "      <td>...</td>\n",
              "    </tr>\n",
              "    <tr>\n",
              "      <th>495</th>\n",
              "      <td>TSLA</td>\n",
              "      <td>Apr-05-21</td>\n",
              "      <td>04:04PM</td>\n",
              "      <td>Tesla, Yeti, Pinterest Among Growth Stocks To ...</td>\n",
              "    </tr>\n",
              "    <tr>\n",
              "      <th>496</th>\n",
              "      <td>TSLA</td>\n",
              "      <td>Apr-05-21</td>\n",
              "      <td>04:00PM</td>\n",
              "      <td>US STOCKS-Strong economic data lifts Dow, S&amp;P ...</td>\n",
              "    </tr>\n",
              "    <tr>\n",
              "      <th>497</th>\n",
              "      <td>TSLA</td>\n",
              "      <td>Apr-05-21</td>\n",
              "      <td>03:02PM</td>\n",
              "      <td>Dow Jones Jumps 400 Points To All-Time High; M...</td>\n",
              "    </tr>\n",
              "    <tr>\n",
              "      <th>498</th>\n",
              "      <td>TSLA</td>\n",
              "      <td>Apr-05-21</td>\n",
              "      <td>02:35PM</td>\n",
              "      <td>US STOCKS-Dow, S&amp;P 500 rally to records, boost...</td>\n",
              "    </tr>\n",
              "    <tr>\n",
              "      <th>499</th>\n",
              "      <td>TSLA</td>\n",
              "      <td>Apr-05-21</td>\n",
              "      <td>02:10PM</td>\n",
              "      <td>Billionaire wealth increases 44.6% amid pandemic</td>\n",
              "    </tr>\n",
              "  </tbody>\n",
              "</table>\n",
              "<p>500 rows × 4 columns</p>\n",
              "</div>"
            ],
            "text/plain": [
              "    ticker  ...                                              title\n",
              "0       FB  ...              Top 10 S&P 500 Stocks by Index Weight\n",
              "1       FB  ...                  Facebook: The Classic Toll Bridge\n",
              "2       FB  ...   These Are The 5 Best Stocks To Buy And Watch Now\n",
              "3       FB  ...  Facebook algorithm shows its users different j...\n",
              "4       FB  ...  Facebook Converts Part Of Menlo Park Headquart...\n",
              "..     ...  ...                                                ...\n",
              "495   TSLA  ...  Tesla, Yeti, Pinterest Among Growth Stocks To ...\n",
              "496   TSLA  ...  US STOCKS-Strong economic data lifts Dow, S&P ...\n",
              "497   TSLA  ...  Dow Jones Jumps 400 Points To All-Time High; M...\n",
              "498   TSLA  ...  US STOCKS-Dow, S&P 500 rally to records, boost...\n",
              "499   TSLA  ...   Billionaire wealth increases 44.6% amid pandemic\n",
              "\n",
              "[500 rows x 4 columns]"
            ]
          },
          "metadata": {
            "tags": []
          },
          "execution_count": 9
        }
      ]
    },
    {
      "cell_type": "code",
      "metadata": {
        "id": "Gj_sZ3uiSjSD"
      },
      "source": [
        "vader = SentimentIntensityAnalyzer()"
      ],
      "execution_count": null,
      "outputs": []
    },
    {
      "cell_type": "code",
      "metadata": {
        "colab": {
          "base_uri": "https://localhost:8080/"
        },
        "id": "YYkQiAujSnsI",
        "outputId": "ba15edef-56c9-47cb-ffa1-c19c86c724b1"
      },
      "source": [
        "score = vader.polarity_scores(\"I really like the stock, it's beautiful :)!!!\")\n",
        "score"
      ],
      "execution_count": null,
      "outputs": [
        {
          "output_type": "execute_result",
          "data": {
            "text/plain": [
              "{'compound': 0.821, 'neg': 0.0, 'neu': 0.398, 'pos': 0.602}"
            ]
          },
          "metadata": {
            "tags": []
          },
          "execution_count": 17
        }
      ]
    },
    {
      "cell_type": "code",
      "metadata": {
        "colab": {
          "base_uri": "https://localhost:8080/",
          "height": 374
        },
        "id": "KDjx5KcNRXgv",
        "outputId": "79b85499-ac61-4755-bfa6-4ed1a24b7f0b"
      },
      "source": [
        "f = lambda title: vader.polarity_scores(title)['compound']\n",
        "df['compound'] = df['title'].apply(f)\n",
        "df['date'] = pd.to_datetime(df.date).dt.date\n",
        "df.sample(n = 10)"
      ],
      "execution_count": null,
      "outputs": [
        {
          "output_type": "execute_result",
          "data": {
            "text/html": [
              "<div>\n",
              "<style scoped>\n",
              "    .dataframe tbody tr th:only-of-type {\n",
              "        vertical-align: middle;\n",
              "    }\n",
              "\n",
              "    .dataframe tbody tr th {\n",
              "        vertical-align: top;\n",
              "    }\n",
              "\n",
              "    .dataframe thead th {\n",
              "        text-align: right;\n",
              "    }\n",
              "</style>\n",
              "<table border=\"1\" class=\"dataframe\">\n",
              "  <thead>\n",
              "    <tr style=\"text-align: right;\">\n",
              "      <th></th>\n",
              "      <th>ticker</th>\n",
              "      <th>date</th>\n",
              "      <th>time</th>\n",
              "      <th>title</th>\n",
              "      <th>compound</th>\n",
              "    </tr>\n",
              "  </thead>\n",
              "  <tbody>\n",
              "    <tr>\n",
              "      <th>462</th>\n",
              "      <td>TSLA</td>\n",
              "      <td>2021-04-07</td>\n",
              "      <td>05:35AM</td>\n",
              "      <td>UPDATE 1-Tesla tells China car cameras not act...</td>\n",
              "      <td>0.0000</td>\n",
              "    </tr>\n",
              "    <tr>\n",
              "      <th>202</th>\n",
              "      <td>AAPL</td>\n",
              "      <td>2021-04-09</td>\n",
              "      <td>06:45PM</td>\n",
              "      <td>Aramco Selling $12.4 Billion Stake in Pipeline...</td>\n",
              "      <td>0.0000</td>\n",
              "    </tr>\n",
              "    <tr>\n",
              "      <th>187</th>\n",
              "      <td>AMZN</td>\n",
              "      <td>2021-04-07</td>\n",
              "      <td>09:08PM</td>\n",
              "      <td>UPDATE 1-Amazon union election in Alabama has ...</td>\n",
              "      <td>0.0000</td>\n",
              "    </tr>\n",
              "    <tr>\n",
              "      <th>374</th>\n",
              "      <td>GOOGL</td>\n",
              "      <td>2021-04-06</td>\n",
              "      <td>12:30PM</td>\n",
              "      <td>Alphabet's (GOOGL) Google Wins Against Oracle ...</td>\n",
              "      <td>-0.0516</td>\n",
              "    </tr>\n",
              "    <tr>\n",
              "      <th>430</th>\n",
              "      <td>TSLA</td>\n",
              "      <td>2021-04-08</td>\n",
              "      <td>10:50AM</td>\n",
              "      <td>Transportation Secretary Pete Buttigieg: Elect...</td>\n",
              "      <td>0.0000</td>\n",
              "    </tr>\n",
              "    <tr>\n",
              "      <th>444</th>\n",
              "      <td>TSLA</td>\n",
              "      <td>2021-04-08</td>\n",
              "      <td>02:38AM</td>\n",
              "      <td>Tesla scouts for showroom space in India, hire...</td>\n",
              "      <td>-0.0772</td>\n",
              "    </tr>\n",
              "    <tr>\n",
              "      <th>116</th>\n",
              "      <td>AMZN</td>\n",
              "      <td>2021-04-09</td>\n",
              "      <td>01:34PM</td>\n",
              "      <td>Amazon Prevails in Vote Count as Union Alleges...</td>\n",
              "      <td>0.1779</td>\n",
              "    </tr>\n",
              "    <tr>\n",
              "      <th>33</th>\n",
              "      <td>FB</td>\n",
              "      <td>2021-04-08</td>\n",
              "      <td>10:02AM</td>\n",
              "      <td>Facebook Beta Tests Hotline, Its Answer To Clu...</td>\n",
              "      <td>0.0000</td>\n",
              "    </tr>\n",
              "    <tr>\n",
              "      <th>64</th>\n",
              "      <td>FB</td>\n",
              "      <td>2021-04-07</td>\n",
              "      <td>05:51AM</td>\n",
              "      <td>3 Value Stocks That'll Make You Richer in Q2 (...</td>\n",
              "      <td>0.7003</td>\n",
              "    </tr>\n",
              "    <tr>\n",
              "      <th>427</th>\n",
              "      <td>TSLA</td>\n",
              "      <td>2021-04-08</td>\n",
              "      <td>11:44AM</td>\n",
              "      <td>Dow Falls, Tech Stocks Rally As Yields Drop Ah...</td>\n",
              "      <td>-0.2732</td>\n",
              "    </tr>\n",
              "  </tbody>\n",
              "</table>\n",
              "</div>"
            ],
            "text/plain": [
              "    ticker  ... compound\n",
              "462   TSLA  ...   0.0000\n",
              "202   AAPL  ...   0.0000\n",
              "187   AMZN  ...   0.0000\n",
              "374  GOOGL  ...  -0.0516\n",
              "430   TSLA  ...   0.0000\n",
              "444   TSLA  ...  -0.0772\n",
              "116   AMZN  ...   0.1779\n",
              "33      FB  ...   0.0000\n",
              "64      FB  ...   0.7003\n",
              "427   TSLA  ...  -0.2732\n",
              "\n",
              "[10 rows x 5 columns]"
            ]
          },
          "metadata": {
            "tags": []
          },
          "execution_count": 12
        }
      ]
    },
    {
      "cell_type": "code",
      "metadata": {
        "colab": {
          "base_uri": "https://localhost:8080/",
          "height": 526
        },
        "id": "uf_aVPx-Q8GZ",
        "outputId": "9f938ecd-f371-44f5-c65a-f4f5dd3793b6"
      },
      "source": [
        "df.loc[df['ticker'] == 'TSLA'].head(15)"
      ],
      "execution_count": null,
      "outputs": [
        {
          "output_type": "execute_result",
          "data": {
            "text/html": [
              "<div>\n",
              "<style scoped>\n",
              "    .dataframe tbody tr th:only-of-type {\n",
              "        vertical-align: middle;\n",
              "    }\n",
              "\n",
              "    .dataframe tbody tr th {\n",
              "        vertical-align: top;\n",
              "    }\n",
              "\n",
              "    .dataframe thead th {\n",
              "        text-align: right;\n",
              "    }\n",
              "</style>\n",
              "<table border=\"1\" class=\"dataframe\">\n",
              "  <thead>\n",
              "    <tr style=\"text-align: right;\">\n",
              "      <th></th>\n",
              "      <th>ticker</th>\n",
              "      <th>date</th>\n",
              "      <th>time</th>\n",
              "      <th>title</th>\n",
              "      <th>compound</th>\n",
              "    </tr>\n",
              "  </thead>\n",
              "  <tbody>\n",
              "    <tr>\n",
              "      <th>400</th>\n",
              "      <td>TSLA</td>\n",
              "      <td>2021-04-09</td>\n",
              "      <td>11:20PM</td>\n",
              "      <td>Top 10 S&amp;P 500 Stocks by Index Weight</td>\n",
              "      <td>0.2023</td>\n",
              "    </tr>\n",
              "    <tr>\n",
              "      <th>401</th>\n",
              "      <td>TSLA</td>\n",
              "      <td>2021-04-09</td>\n",
              "      <td>07:16PM</td>\n",
              "      <td>Musks Las Vegas Tunnel Is Like a Tesla Amuseme...</td>\n",
              "      <td>0.6124</td>\n",
              "    </tr>\n",
              "    <tr>\n",
              "      <th>402</th>\n",
              "      <td>TSLA</td>\n",
              "      <td>2021-04-09</td>\n",
              "      <td>05:40PM</td>\n",
              "      <td>Hot Putnam Mutual Fund Likes Alphabet, Tesla, ...</td>\n",
              "      <td>0.4215</td>\n",
              "    </tr>\n",
              "    <tr>\n",
              "      <th>403</th>\n",
              "      <td>TSLA</td>\n",
              "      <td>2021-04-09</td>\n",
              "      <td>04:30PM</td>\n",
              "      <td>Tesla Announces Date for First Quarter 2021 Fi...</td>\n",
              "      <td>0.0000</td>\n",
              "    </tr>\n",
              "    <tr>\n",
              "      <th>404</th>\n",
              "      <td>TSLA</td>\n",
              "      <td>2021-04-09</td>\n",
              "      <td>04:08PM</td>\n",
              "      <td>Is There A Less-Expensive Tesla Model 3 With A...</td>\n",
              "      <td>0.4019</td>\n",
              "    </tr>\n",
              "    <tr>\n",
              "      <th>405</th>\n",
              "      <td>TSLA</td>\n",
              "      <td>2021-04-09</td>\n",
              "      <td>04:03PM</td>\n",
              "      <td>Tesla Has Best China Sales Ever While Elon Mus...</td>\n",
              "      <td>0.6369</td>\n",
              "    </tr>\n",
              "    <tr>\n",
              "      <th>406</th>\n",
              "      <td>TSLA</td>\n",
              "      <td>2021-04-09</td>\n",
              "      <td>01:54PM</td>\n",
              "      <td>Bitcoin Was Supposed to Be a Way Around Corpor...</td>\n",
              "      <td>0.0000</td>\n",
              "    </tr>\n",
              "    <tr>\n",
              "      <th>407</th>\n",
              "      <td>TSLA</td>\n",
              "      <td>2021-04-09</td>\n",
              "      <td>11:42AM</td>\n",
              "      <td>Dow Rallies, Tech Stocks Fall As Yields Reboun...</td>\n",
              "      <td>0.0000</td>\n",
              "    </tr>\n",
              "    <tr>\n",
              "      <th>408</th>\n",
              "      <td>TSLA</td>\n",
              "      <td>2021-04-09</td>\n",
              "      <td>11:41AM</td>\n",
              "      <td>Bro Culture at Camera Maker Verkada Pushed Pro...</td>\n",
              "      <td>0.6808</td>\n",
              "    </tr>\n",
              "    <tr>\n",
              "      <th>409</th>\n",
              "      <td>TSLA</td>\n",
              "      <td>2021-04-09</td>\n",
              "      <td>10:30AM</td>\n",
              "      <td>Can These 3 Robinhood Favorites Really Be Winn...</td>\n",
              "      <td>0.7564</td>\n",
              "    </tr>\n",
              "    <tr>\n",
              "      <th>410</th>\n",
              "      <td>TSLA</td>\n",
              "      <td>2021-04-09</td>\n",
              "      <td>10:25AM</td>\n",
              "      <td>Tesla's China Deliveries In March Increase 207...</td>\n",
              "      <td>0.3182</td>\n",
              "    </tr>\n",
              "    <tr>\n",
              "      <th>411</th>\n",
              "      <td>TSLA</td>\n",
              "      <td>2021-04-09</td>\n",
              "      <td>07:03AM</td>\n",
              "      <td>Why Shares of These Electric-Vehicle Start-Ups...</td>\n",
              "      <td>-0.1531</td>\n",
              "    </tr>\n",
              "    <tr>\n",
              "      <th>412</th>\n",
              "      <td>TSLA</td>\n",
              "      <td>2021-04-09</td>\n",
              "      <td>07:00AM</td>\n",
              "      <td>Even Tesla Can Be a Penny Stock With Fractiona...</td>\n",
              "      <td>0.2960</td>\n",
              "    </tr>\n",
              "    <tr>\n",
              "      <th>413</th>\n",
              "      <td>TSLA</td>\n",
              "      <td>2021-04-09</td>\n",
              "      <td>05:55AM</td>\n",
              "      <td>Tesla China Deliveries Set EV Maker for Strong...</td>\n",
              "      <td>0.5106</td>\n",
              "    </tr>\n",
              "    <tr>\n",
              "      <th>414</th>\n",
              "      <td>TSLA</td>\n",
              "      <td>2021-04-08</td>\n",
              "      <td>05:45PM</td>\n",
              "      <td>Tesla (TSLA) Outpaces Stock Market Gains: What...</td>\n",
              "      <td>0.3400</td>\n",
              "    </tr>\n",
              "  </tbody>\n",
              "</table>\n",
              "</div>"
            ],
            "text/plain": [
              "    ticker  ... compound\n",
              "400   TSLA  ...   0.2023\n",
              "401   TSLA  ...   0.6124\n",
              "402   TSLA  ...   0.4215\n",
              "403   TSLA  ...   0.0000\n",
              "404   TSLA  ...   0.4019\n",
              "405   TSLA  ...   0.6369\n",
              "406   TSLA  ...   0.0000\n",
              "407   TSLA  ...   0.0000\n",
              "408   TSLA  ...   0.6808\n",
              "409   TSLA  ...   0.7564\n",
              "410   TSLA  ...   0.3182\n",
              "411   TSLA  ...  -0.1531\n",
              "412   TSLA  ...   0.2960\n",
              "413   TSLA  ...   0.5106\n",
              "414   TSLA  ...   0.3400\n",
              "\n",
              "[15 rows x 5 columns]"
            ]
          },
          "metadata": {
            "tags": []
          },
          "execution_count": 36
        }
      ]
    },
    {
      "cell_type": "code",
      "metadata": {
        "colab": {
          "base_uri": "https://localhost:8080/"
        },
        "id": "QTHxGPXFSET8",
        "outputId": "b92e2c9f-ed09-4041-e06f-8ad258036f72"
      },
      "source": [
        "dt.datetime.today()"
      ],
      "execution_count": null,
      "outputs": [
        {
          "output_type": "execute_result",
          "data": {
            "text/plain": [
              "datetime.datetime(2021, 4, 10, 5, 37, 7, 981)"
            ]
          },
          "metadata": {
            "tags": []
          },
          "execution_count": 27
        }
      ]
    },
    {
      "cell_type": "code",
      "metadata": {
        "colab": {
          "base_uri": "https://localhost:8080/",
          "height": 372
        },
        "id": "E9qxxdYMRenK",
        "outputId": "49c437b0-0c0a-42d3-86c7-2bed4fd1ea75"
      },
      "source": [
        "mean_df = df.groupby(['ticker', 'date']).mean().unstack()\n",
        "mean_df = mean_df.xs('compound', axis=\"columns\")\n",
        "mean_df.plot(kind='bar', figsize = (20, 5))\n",
        "plt.grid()\n",
        "plt.style.use('dark_background')\n",
        "plt.show()"
      ],
      "execution_count": null,
      "outputs": [
        {
          "output_type": "display_data",
          "data": {
            "image/png": "[encoded data removed]",
            "text/plain": [
              "<Figure size 1440x360 with 1 Axes>"
            ]
          },
          "metadata": {
            "tags": [],
            "needs_background": "light"
          }
        }
      ]
    },
    {
      "cell_type": "code",
      "metadata": {
        "colab": {
          "base_uri": "https://localhost:8080/",
          "height": 252
        },
        "id": "i7Q3wfg3VkD2",
        "outputId": "ae7ba0f6-c672-4040-ae7b-c2b3c81c418b"
      },
      "source": [
        "mean_df"
      ],
      "execution_count": null,
      "outputs": [
        {
          "output_type": "execute_result",
          "data": {
            "text/html": [
              "<div>\n",
              "<style scoped>\n",
              "    .dataframe tbody tr th:only-of-type {\n",
              "        vertical-align: middle;\n",
              "    }\n",
              "\n",
              "    .dataframe tbody tr th {\n",
              "        vertical-align: top;\n",
              "    }\n",
              "\n",
              "    .dataframe thead th {\n",
              "        text-align: right;\n",
              "    }\n",
              "</style>\n",
              "<table border=\"1\" class=\"dataframe\">\n",
              "  <thead>\n",
              "    <tr style=\"text-align: right;\">\n",
              "      <th>date</th>\n",
              "      <th>2021-04-05</th>\n",
              "      <th>2021-04-06</th>\n",
              "      <th>2021-04-07</th>\n",
              "      <th>2021-04-08</th>\n",
              "      <th>2021-04-09</th>\n",
              "      <th>2021-04-10</th>\n",
              "    </tr>\n",
              "    <tr>\n",
              "      <th>ticker</th>\n",
              "      <th></th>\n",
              "      <th></th>\n",
              "      <th></th>\n",
              "      <th></th>\n",
              "      <th></th>\n",
              "      <th></th>\n",
              "    </tr>\n",
              "  </thead>\n",
              "  <tbody>\n",
              "    <tr>\n",
              "      <th>AAPL</th>\n",
              "      <td>NaN</td>\n",
              "      <td>0.076838</td>\n",
              "      <td>0.123595</td>\n",
              "      <td>-0.073922</td>\n",
              "      <td>0.168379</td>\n",
              "      <td>NaN</td>\n",
              "    </tr>\n",
              "    <tr>\n",
              "      <th>AMZN</th>\n",
              "      <td>NaN</td>\n",
              "      <td>NaN</td>\n",
              "      <td>0.213514</td>\n",
              "      <td>0.137485</td>\n",
              "      <td>0.093067</td>\n",
              "      <td>-0.11475</td>\n",
              "    </tr>\n",
              "    <tr>\n",
              "      <th>FB</th>\n",
              "      <td>0.166185</td>\n",
              "      <td>-0.024405</td>\n",
              "      <td>-0.043235</td>\n",
              "      <td>-0.058608</td>\n",
              "      <td>-0.042280</td>\n",
              "      <td>NaN</td>\n",
              "    </tr>\n",
              "    <tr>\n",
              "      <th>GOOGL</th>\n",
              "      <td>0.027250</td>\n",
              "      <td>0.178163</td>\n",
              "      <td>0.091224</td>\n",
              "      <td>-0.042105</td>\n",
              "      <td>0.133112</td>\n",
              "      <td>NaN</td>\n",
              "    </tr>\n",
              "    <tr>\n",
              "      <th>TSLA</th>\n",
              "      <td>0.065843</td>\n",
              "      <td>0.103619</td>\n",
              "      <td>0.084263</td>\n",
              "      <td>0.019681</td>\n",
              "      <td>0.334564</td>\n",
              "      <td>NaN</td>\n",
              "    </tr>\n",
              "  </tbody>\n",
              "</table>\n",
              "</div>"
            ],
            "text/plain": [
              "date    2021-04-05  2021-04-06  2021-04-07  2021-04-08  2021-04-09  2021-04-10\n",
              "ticker                                                                        \n",
              "AAPL           NaN    0.076838    0.123595   -0.073922    0.168379         NaN\n",
              "AMZN           NaN         NaN    0.213514    0.137485    0.093067    -0.11475\n",
              "FB        0.166185   -0.024405   -0.043235   -0.058608   -0.042280         NaN\n",
              "GOOGL     0.027250    0.178163    0.091224   -0.042105    0.133112         NaN\n",
              "TSLA      0.065843    0.103619    0.084263    0.019681    0.334564         NaN"
            ]
          },
          "metadata": {
            "tags": []
          },
          "execution_count": 14
        }
      ]
    },
    {
      "cell_type": "code",
      "metadata": {
        "id": "gbETvcpfZI61"
      },
      "source": [
        ""
      ],
      "execution_count": null,
      "outputs": []
    }
  ]
}