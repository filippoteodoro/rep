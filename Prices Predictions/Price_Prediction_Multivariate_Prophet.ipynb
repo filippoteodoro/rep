{
  "nbformat": 4,
  "nbformat_minor": 0,
  "metadata": {
    "colab": {
      "name": "Price_Prediction_Multivariate_Prophet.ipynb",
      "provenance": [],
      "collapsed_sections": []
    },
    "kernelspec": {
      "name": "python3",
      "display_name": "Python 3"
    },
    "accelerator": "TPU",
    "widgets": {
      "application/vnd.jupyter.widget-state+json": {
        "85846926075344e28d1f62f736555dd0": {
          "model_module": "@jupyter-widgets/controls",
          "model_name": "HBoxModel",
          "state": {
            "_view_name": "HBoxView",
            "_dom_classes": [],
            "_model_name": "HBoxModel",
            "_view_module": "@jupyter-widgets/controls",
            "_model_module_version": "1.5.0",
            "_view_count": null,
            "_view_module_version": "1.5.0",
            "box_style": "",
            "layout": "IPY_MODEL_a965b63427b94fa0ba21857b20215780",
            "_model_module": "@jupyter-widgets/controls",
            "children": [
              "IPY_MODEL_ee9e1d45450d470ba9604574113c5b82",
              "IPY_MODEL_479fa41c7a4045f093247278d6bcb925"
            ]
          }
        },
        "a965b63427b94fa0ba21857b20215780": {
          "model_module": "@jupyter-widgets/base",
          "model_name": "LayoutModel",
          "state": {
            "_view_name": "LayoutView",
            "grid_template_rows": null,
            "right": null,
            "justify_content": null,
            "_view_module": "@jupyter-widgets/base",
            "overflow": null,
            "_model_module_version": "1.2.0",
            "_view_count": null,
            "flex_flow": null,
            "width": null,
            "min_width": null,
            "border": null,
            "align_items": null,
            "bottom": null,
            "_model_module": "@jupyter-widgets/base",
            "top": null,
            "grid_column": null,
            "overflow_y": null,
            "overflow_x": null,
            "grid_auto_flow": null,
            "grid_area": null,
            "grid_template_columns": null,
            "flex": null,
            "_model_name": "LayoutModel",
            "justify_items": null,
            "grid_row": null,
            "max_height": null,
            "align_content": null,
            "visibility": null,
            "align_self": null,
            "height": null,
            "min_height": null,
            "padding": null,
            "grid_auto_rows": null,
            "grid_gap": null,
            "max_width": null,
            "order": null,
            "_view_module_version": "1.2.0",
            "grid_template_areas": null,
            "object_position": null,
            "object_fit": null,
            "grid_auto_columns": null,
            "margin": null,
            "display": null,
            "left": null
          }
        },
        "ee9e1d45450d470ba9604574113c5b82": {
          "model_module": "@jupyter-widgets/controls",
          "model_name": "FloatProgressModel",
          "state": {
            "_view_name": "ProgressView",
            "style": "IPY_MODEL_4af937e67d3346f3b7e0199c22a02531",
            "_dom_classes": [],
            "description": "100%",
            "_model_name": "FloatProgressModel",
            "bar_style": "success",
            "max": 6,
            "_view_module": "@jupyter-widgets/controls",
            "_model_module_version": "1.5.0",
            "value": 6,
            "_view_count": null,
            "_view_module_version": "1.5.0",
            "orientation": "horizontal",
            "min": 0,
            "description_tooltip": null,
            "_model_module": "@jupyter-widgets/controls",
            "layout": "IPY_MODEL_48d446c0b62f45b1b1ead3f857c66241"
          }
        },
        "479fa41c7a4045f093247278d6bcb925": {
          "model_module": "@jupyter-widgets/controls",
          "model_name": "HTMLModel",
          "state": {
            "_view_name": "HTMLView",
            "style": "IPY_MODEL_c5384c06a6fe4221af755cdd6d9f51fe",
            "_dom_classes": [],
            "description": "",
            "_model_name": "HTMLModel",
            "placeholder": "​",
            "_view_module": "@jupyter-widgets/controls",
            "_model_module_version": "1.5.0",
            "value": " 6/6 [00:25&lt;00:00,  4.29s/it]",
            "_view_count": null,
            "_view_module_version": "1.5.0",
            "description_tooltip": null,
            "_model_module": "@jupyter-widgets/controls",
            "layout": "IPY_MODEL_01fee4fc05414b27ad82a2aaf9776dad"
          }
        },
        "4af937e67d3346f3b7e0199c22a02531": {
          "model_module": "@jupyter-widgets/controls",
          "model_name": "ProgressStyleModel",
          "state": {
            "_view_name": "StyleView",
            "_model_name": "ProgressStyleModel",
            "description_width": "initial",
            "_view_module": "@jupyter-widgets/base",
            "_model_module_version": "1.5.0",
            "_view_count": null,
            "_view_module_version": "1.2.0",
            "bar_color": null,
            "_model_module": "@jupyter-widgets/controls"
          }
        },
        "48d446c0b62f45b1b1ead3f857c66241": {
          "model_module": "@jupyter-widgets/base",
          "model_name": "LayoutModel",
          "state": {
            "_view_name": "LayoutView",
            "grid_template_rows": null,
            "right": null,
            "justify_content": null,
            "_view_module": "@jupyter-widgets/base",
            "overflow": null,
            "_model_module_version": "1.2.0",
            "_view_count": null,
            "flex_flow": null,
            "width": null,
            "min_width": null,
            "border": null,
            "align_items": null,
            "bottom": null,
            "_model_module": "@jupyter-widgets/base",
            "top": null,
            "grid_column": null,
            "overflow_y": null,
            "overflow_x": null,
            "grid_auto_flow": null,
            "grid_area": null,
            "grid_template_columns": null,
            "flex": null,
            "_model_name": "LayoutModel",
            "justify_items": null,
            "grid_row": null,
            "max_height": null,
            "align_content": null,
            "visibility": null,
            "align_self": null,
            "height": null,
            "min_height": null,
            "padding": null,
            "grid_auto_rows": null,
            "grid_gap": null,
            "max_width": null,
            "order": null,
            "_view_module_version": "1.2.0",
            "grid_template_areas": null,
            "object_position": null,
            "object_fit": null,
            "grid_auto_columns": null,
            "margin": null,
            "display": null,
            "left": null
          }
        },
        "c5384c06a6fe4221af755cdd6d9f51fe": {
          "model_module": "@jupyter-widgets/controls",
          "model_name": "DescriptionStyleModel",
          "state": {
            "_view_name": "StyleView",
            "_model_name": "DescriptionStyleModel",
            "description_width": "",
            "_view_module": "@jupyter-widgets/base",
            "_model_module_version": "1.5.0",
            "_view_count": null,
            "_view_module_version": "1.2.0",
            "_model_module": "@jupyter-widgets/controls"
          }
        },
        "01fee4fc05414b27ad82a2aaf9776dad": {
          "model_module": "@jupyter-widgets/base",
          "model_name": "LayoutModel",
          "state": {
            "_view_name": "LayoutView",
            "grid_template_rows": null,
            "right": null,
            "justify_content": null,
            "_view_module": "@jupyter-widgets/base",
            "overflow": null,
            "_model_module_version": "1.2.0",
            "_view_count": null,
            "flex_flow": null,
            "width": null,
            "min_width": null,
            "border": null,
            "align_items": null,
            "bottom": null,
            "_model_module": "@jupyter-widgets/base",
            "top": null,
            "grid_column": null,
            "overflow_y": null,
            "overflow_x": null,
            "grid_auto_flow": null,
            "grid_area": null,
            "grid_template_columns": null,
            "flex": null,
            "_model_name": "LayoutModel",
            "justify_items": null,
            "grid_row": null,
            "max_height": null,
            "align_content": null,
            "visibility": null,
            "align_self": null,
            "height": null,
            "min_height": null,
            "padding": null,
            "grid_auto_rows": null,
            "grid_gap": null,
            "max_width": null,
            "order": null,
            "_view_module_version": "1.2.0",
            "grid_template_areas": null,
            "object_position": null,
            "object_fit": null,
            "grid_auto_columns": null,
            "margin": null,
            "display": null,
            "left": null
          }
        },
        "e888a561cef847cd862cb9c8a40562c9": {
          "model_module": "@jupyter-widgets/controls",
          "model_name": "HBoxModel",
          "state": {
            "_view_name": "HBoxView",
            "_dom_classes": [],
            "_model_name": "HBoxModel",
            "_view_module": "@jupyter-widgets/controls",
            "_model_module_version": "1.5.0",
            "_view_count": null,
            "_view_module_version": "1.5.0",
            "box_style": "",
            "layout": "IPY_MODEL_87fc7ca6a38147ac8245a269403655cd",
            "_model_module": "@jupyter-widgets/controls",
            "children": [
              "IPY_MODEL_7df21d4fa87d49be944e916e91c277d3",
              "IPY_MODEL_b144fe6cbe6449369c46cbe5960082a9"
            ]
          }
        },
        "87fc7ca6a38147ac8245a269403655cd": {
          "model_module": "@jupyter-widgets/base",
          "model_name": "LayoutModel",
          "state": {
            "_view_name": "LayoutView",
            "grid_template_rows": null,
            "right": null,
            "justify_content": null,
            "_view_module": "@jupyter-widgets/base",
            "overflow": null,
            "_model_module_version": "1.2.0",
            "_view_count": null,
            "flex_flow": null,
            "width": null,
            "min_width": null,
            "border": null,
            "align_items": null,
            "bottom": null,
            "_model_module": "@jupyter-widgets/base",
            "top": null,
            "grid_column": null,
            "overflow_y": null,
            "overflow_x": null,
            "grid_auto_flow": null,
            "grid_area": null,
            "grid_template_columns": null,
            "flex": null,
            "_model_name": "LayoutModel",
            "justify_items": null,
            "grid_row": null,
            "max_height": null,
            "align_content": null,
            "visibility": null,
            "align_self": null,
            "height": null,
            "min_height": null,
            "padding": null,
            "grid_auto_rows": null,
            "grid_gap": null,
            "max_width": null,
            "order": null,
            "_view_module_version": "1.2.0",
            "grid_template_areas": null,
            "object_position": null,
            "object_fit": null,
            "grid_auto_columns": null,
            "margin": null,
            "display": null,
            "left": null
          }
        },
        "7df21d4fa87d49be944e916e91c277d3": {
          "model_module": "@jupyter-widgets/controls",
          "model_name": "FloatProgressModel",
          "state": {
            "_view_name": "ProgressView",
            "style": "IPY_MODEL_d03fb0b3906a49769e3666145f6adc91",
            "_dom_classes": [],
            "description": "100%",
            "_model_name": "FloatProgressModel",
            "bar_style": "success",
            "max": 4,
            "_view_module": "@jupyter-widgets/controls",
            "_model_module_version": "1.5.0",
            "value": 4,
            "_view_count": null,
            "_view_module_version": "1.5.0",
            "orientation": "horizontal",
            "min": 0,
            "description_tooltip": null,
            "_model_module": "@jupyter-widgets/controls",
            "layout": "IPY_MODEL_050da2bbb6d147748efc8344149f3188"
          }
        },
        "b144fe6cbe6449369c46cbe5960082a9": {
          "model_module": "@jupyter-widgets/controls",
          "model_name": "HTMLModel",
          "state": {
            "_view_name": "HTMLView",
            "style": "IPY_MODEL_92cee3b268214e8a8fdde8c303308985",
            "_dom_classes": [],
            "description": "",
            "_model_name": "HTMLModel",
            "placeholder": "​",
            "_view_module": "@jupyter-widgets/controls",
            "_model_module_version": "1.5.0",
            "value": " 4/4 [00:18&lt;00:00,  4.59s/it]",
            "_view_count": null,
            "_view_module_version": "1.5.0",
            "description_tooltip": null,
            "_model_module": "@jupyter-widgets/controls",
            "layout": "IPY_MODEL_6ec6dfe828a64bef8381e3e1726f042a"
          }
        },
        "d03fb0b3906a49769e3666145f6adc91": {
          "model_module": "@jupyter-widgets/controls",
          "model_name": "ProgressStyleModel",
          "state": {
            "_view_name": "StyleView",
            "_model_name": "ProgressStyleModel",
            "description_width": "initial",
            "_view_module": "@jupyter-widgets/base",
            "_model_module_version": "1.5.0",
            "_view_count": null,
            "_view_module_version": "1.2.0",
            "bar_color": null,
            "_model_module": "@jupyter-widgets/controls"
          }
        },
        "050da2bbb6d147748efc8344149f3188": {
          "model_module": "@jupyter-widgets/base",
          "model_name": "LayoutModel",
          "state": {
            "_view_name": "LayoutView",
            "grid_template_rows": null,
            "right": null,
            "justify_content": null,
            "_view_module": "@jupyter-widgets/base",
            "overflow": null,
            "_model_module_version": "1.2.0",
            "_view_count": null,
            "flex_flow": null,
            "width": null,
            "min_width": null,
            "border": null,
            "align_items": null,
            "bottom": null,
            "_model_module": "@jupyter-widgets/base",
            "top": null,
            "grid_column": null,
            "overflow_y": null,
            "overflow_x": null,
            "grid_auto_flow": null,
            "grid_area": null,
            "grid_template_columns": null,
            "flex": null,
            "_model_name": "LayoutModel",
            "justify_items": null,
            "grid_row": null,
            "max_height": null,
            "align_content": null,
            "visibility": null,
            "align_self": null,
            "height": null,
            "min_height": null,
            "padding": null,
            "grid_auto_rows": null,
            "grid_gap": null,
            "max_width": null,
            "order": null,
            "_view_module_version": "1.2.0",
            "grid_template_areas": null,
            "object_position": null,
            "object_fit": null,
            "grid_auto_columns": null,
            "margin": null,
            "display": null,
            "left": null
          }
        },
        "92cee3b268214e8a8fdde8c303308985": {
          "model_module": "@jupyter-widgets/controls",
          "model_name": "DescriptionStyleModel",
          "state": {
            "_view_name": "StyleView",
            "_model_name": "DescriptionStyleModel",
            "description_width": "",
            "_view_module": "@jupyter-widgets/base",
            "_model_module_version": "1.5.0",
            "_view_count": null,
            "_view_module_version": "1.2.0",
            "_model_module": "@jupyter-widgets/controls"
          }
        },
        "6ec6dfe828a64bef8381e3e1726f042a": {
          "model_module": "@jupyter-widgets/base",
          "model_name": "LayoutModel",
          "state": {
            "_view_name": "LayoutView",
            "grid_template_rows": null,
            "right": null,
            "justify_content": null,
            "_view_module": "@jupyter-widgets/base",
            "overflow": null,
            "_model_module_version": "1.2.0",
            "_view_count": null,
            "flex_flow": null,
            "width": null,
            "min_width": null,
            "border": null,
            "align_items": null,
            "bottom": null,
            "_model_module": "@jupyter-widgets/base",
            "top": null,
            "grid_column": null,
            "overflow_y": null,
            "overflow_x": null,
            "grid_auto_flow": null,
            "grid_area": null,
            "grid_template_columns": null,
            "flex": null,
            "_model_name": "LayoutModel",
            "justify_items": null,
            "grid_row": null,
            "max_height": null,
            "align_content": null,
            "visibility": null,
            "align_self": null,
            "height": null,
            "min_height": null,
            "padding": null,
            "grid_auto_rows": null,
            "grid_gap": null,
            "max_width": null,
            "order": null,
            "_view_module_version": "1.2.0",
            "grid_template_areas": null,
            "object_position": null,
            "object_fit": null,
            "grid_auto_columns": null,
            "margin": null,
            "display": null,
            "left": null
          }
        }
      }
    }
  },
  "cells": [
    {
      "cell_type": "code",
      "metadata": {
        "id": "lsQ8HCbcGJxX"
      },
      "source": [
        "import numpy as np\n",
        "np.random.seed(15)\n",
        "import matplotlib.pyplot as plt\n",
        "import pandas as pd\n",
        "import pandas_datareader as pdr\n",
        "import datetime as dt"
      ],
      "execution_count": null,
      "outputs": []
    },
    {
      "cell_type": "code",
      "metadata": {
        "colab": {
          "base_uri": "https://localhost:8080/",
          "height": 235
        },
        "id": "tUz-Up_WQ3ge",
        "outputId": "75975981-60e8-4b1f-d72a-c75ef8aaf402"
      },
      "source": [
        "# Load data\n",
        "target = 'ETH-USD'\n",
        "start = dt.datetime(2015,1,1)\n",
        "end = dt.datetime.today()\n",
        "\n",
        "data = pdr.DataReader(target, 'yahoo', start, end)\n",
        "data.head()"
      ],
      "execution_count": null,
      "outputs": [
        {
          "output_type": "execute_result",
          "data": {
            "text/html": [
              "<div>\n",
              "<style scoped>\n",
              "    .dataframe tbody tr th:only-of-type {\n",
              "        vertical-align: middle;\n",
              "    }\n",
              "\n",
              "    .dataframe tbody tr th {\n",
              "        vertical-align: top;\n",
              "    }\n",
              "\n",
              "    .dataframe thead th {\n",
              "        text-align: right;\n",
              "    }\n",
              "</style>\n",
              "<table border=\"1\" class=\"dataframe\">\n",
              "  <thead>\n",
              "    <tr style=\"text-align: right;\">\n",
              "      <th></th>\n",
              "      <th>High</th>\n",
              "      <th>Low</th>\n",
              "      <th>Open</th>\n",
              "      <th>Close</th>\n",
              "      <th>Volume</th>\n",
              "      <th>Adj Close</th>\n",
              "    </tr>\n",
              "    <tr>\n",
              "      <th>Date</th>\n",
              "      <th></th>\n",
              "      <th></th>\n",
              "      <th></th>\n",
              "      <th></th>\n",
              "      <th></th>\n",
              "      <th></th>\n",
              "    </tr>\n",
              "  </thead>\n",
              "  <tbody>\n",
              "    <tr>\n",
              "      <th>2015-08-06</th>\n",
              "      <td>3.536610</td>\n",
              "      <td>2.521120</td>\n",
              "      <td>2.831620</td>\n",
              "      <td>2.772120</td>\n",
              "      <td>164329.0</td>\n",
              "      <td>2.772120</td>\n",
              "    </tr>\n",
              "    <tr>\n",
              "      <th>2015-08-07</th>\n",
              "      <td>2.798810</td>\n",
              "      <td>0.714725</td>\n",
              "      <td>2.793760</td>\n",
              "      <td>0.753325</td>\n",
              "      <td>674188.0</td>\n",
              "      <td>0.753325</td>\n",
              "    </tr>\n",
              "    <tr>\n",
              "      <th>2015-08-08</th>\n",
              "      <td>0.879810</td>\n",
              "      <td>0.629191</td>\n",
              "      <td>0.706136</td>\n",
              "      <td>0.701897</td>\n",
              "      <td>532170.0</td>\n",
              "      <td>0.701897</td>\n",
              "    </tr>\n",
              "    <tr>\n",
              "      <th>2015-08-09</th>\n",
              "      <td>0.729854</td>\n",
              "      <td>0.636546</td>\n",
              "      <td>0.713989</td>\n",
              "      <td>0.708448</td>\n",
              "      <td>405283.0</td>\n",
              "      <td>0.708448</td>\n",
              "    </tr>\n",
              "    <tr>\n",
              "      <th>2015-08-10</th>\n",
              "      <td>1.131410</td>\n",
              "      <td>0.663235</td>\n",
              "      <td>0.708087</td>\n",
              "      <td>1.067860</td>\n",
              "      <td>1463100.0</td>\n",
              "      <td>1.067860</td>\n",
              "    </tr>\n",
              "  </tbody>\n",
              "</table>\n",
              "</div>"
            ],
            "text/plain": [
              "                High       Low      Open     Close     Volume  Adj Close\n",
              "Date                                                                    \n",
              "2015-08-06  3.536610  2.521120  2.831620  2.772120   164329.0   2.772120\n",
              "2015-08-07  2.798810  0.714725  2.793760  0.753325   674188.0   0.753325\n",
              "2015-08-08  0.879810  0.629191  0.706136  0.701897   532170.0   0.701897\n",
              "2015-08-09  0.729854  0.636546  0.713989  0.708448   405283.0   0.708448\n",
              "2015-08-10  1.131410  0.663235  0.708087  1.067860  1463100.0   1.067860"
            ]
          },
          "metadata": {
            "tags": []
          },
          "execution_count": 41
        }
      ]
    },
    {
      "cell_type": "markdown",
      "metadata": {
        "id": "9wJB5NFZPpK-"
      },
      "source": [
        "# Multivariate Prophet"
      ]
    },
    {
      "cell_type": "code",
      "metadata": {
        "colab": {
          "base_uri": "https://localhost:8080/",
          "height": 354
        },
        "id": "HBO44Bb3Pr8f",
        "outputId": "bfb4ea09-6ccc-4ed3-fdef-9d0c47d310bf"
      },
      "source": [
        "data['y'] = data['Close']\n",
        "data['y'] = data['y'].shift(-1)\n",
        "\n",
        "i = 0\n",
        "x = 1\n",
        "for n in data.columns.values[:len(data.columns.values)-1]:\n",
        "  n = 'add' + str(x)\n",
        "  data.columns.values[i] = n\n",
        "  i += 1\n",
        "  x += 1\n",
        "\n",
        "data.tail(1)['y'].fillna((float(0)), inplace=True)\n",
        "\n",
        "data.tail()"
      ],
      "execution_count": null,
      "outputs": [
        {
          "output_type": "stream",
          "text": [
            "/usr/local/lib/python3.7/dist-packages/pandas/core/series.py:4536: SettingWithCopyWarning:\n",
            "\n",
            "\n",
            "A value is trying to be set on a copy of a slice from a DataFrame\n",
            "\n",
            "See the caveats in the documentation: https://pandas.pydata.org/pandas-docs/stable/user_guide/indexing.html#returning-a-view-versus-a-copy\n",
            "\n"
          ],
          "name": "stderr"
        },
        {
          "output_type": "execute_result",
          "data": {
            "text/html": [
              "<div>\n",
              "<style scoped>\n",
              "    .dataframe tbody tr th:only-of-type {\n",
              "        vertical-align: middle;\n",
              "    }\n",
              "\n",
              "    .dataframe tbody tr th {\n",
              "        vertical-align: top;\n",
              "    }\n",
              "\n",
              "    .dataframe thead th {\n",
              "        text-align: right;\n",
              "    }\n",
              "</style>\n",
              "<table border=\"1\" class=\"dataframe\">\n",
              "  <thead>\n",
              "    <tr style=\"text-align: right;\">\n",
              "      <th></th>\n",
              "      <th>add1</th>\n",
              "      <th>add2</th>\n",
              "      <th>add3</th>\n",
              "      <th>add4</th>\n",
              "      <th>add5</th>\n",
              "      <th>add6</th>\n",
              "      <th>y</th>\n",
              "    </tr>\n",
              "    <tr>\n",
              "      <th>Date</th>\n",
              "      <th></th>\n",
              "      <th></th>\n",
              "      <th></th>\n",
              "      <th></th>\n",
              "      <th></th>\n",
              "      <th></th>\n",
              "      <th></th>\n",
              "    </tr>\n",
              "  </thead>\n",
              "  <tbody>\n",
              "    <tr>\n",
              "      <th>2021-03-09</th>\n",
              "      <td>1868.048828</td>\n",
              "      <td>1804.266357</td>\n",
              "      <td>1835.148071</td>\n",
              "      <td>1868.048828</td>\n",
              "      <td>2.346124e+10</td>\n",
              "      <td>1868.048828</td>\n",
              "      <td>1799.166260</td>\n",
              "    </tr>\n",
              "    <tr>\n",
              "      <th>2021-03-10</th>\n",
              "      <td>1873.803223</td>\n",
              "      <td>1766.490479</td>\n",
              "      <td>1868.489014</td>\n",
              "      <td>1799.166260</td>\n",
              "      <td>2.515417e+10</td>\n",
              "      <td>1799.166260</td>\n",
              "      <td>1826.194946</td>\n",
              "    </tr>\n",
              "    <tr>\n",
              "      <th>2021-03-11</th>\n",
              "      <td>1843.818848</td>\n",
              "      <td>1734.617065</td>\n",
              "      <td>1798.033936</td>\n",
              "      <td>1826.194946</td>\n",
              "      <td>2.401313e+10</td>\n",
              "      <td>1826.194946</td>\n",
              "      <td>1772.102417</td>\n",
              "    </tr>\n",
              "    <tr>\n",
              "      <th>2021-03-12</th>\n",
              "      <td>1839.497314</td>\n",
              "      <td>1728.980957</td>\n",
              "      <td>1826.546753</td>\n",
              "      <td>1772.102417</td>\n",
              "      <td>2.243582e+10</td>\n",
              "      <td>1772.102417</td>\n",
              "      <td>1773.714600</td>\n",
              "    </tr>\n",
              "    <tr>\n",
              "      <th>2021-03-13</th>\n",
              "      <td>1777.229492</td>\n",
              "      <td>1734.528442</td>\n",
              "      <td>1754.122559</td>\n",
              "      <td>1773.714600</td>\n",
              "      <td>2.189302e+10</td>\n",
              "      <td>1773.714600</td>\n",
              "      <td>0.000000</td>\n",
              "    </tr>\n",
              "  </tbody>\n",
              "</table>\n",
              "</div>"
            ],
            "text/plain": [
              "                   add1         add2  ...         add6            y\n",
              "Date                                  ...                          \n",
              "2021-03-09  1868.048828  1804.266357  ...  1868.048828  1799.166260\n",
              "2021-03-10  1873.803223  1766.490479  ...  1799.166260  1826.194946\n",
              "2021-03-11  1843.818848  1734.617065  ...  1826.194946  1772.102417\n",
              "2021-03-12  1839.497314  1728.980957  ...  1772.102417  1773.714600\n",
              "2021-03-13  1777.229492  1734.528442  ...  1773.714600     0.000000\n",
              "\n",
              "[5 rows x 7 columns]"
            ]
          },
          "metadata": {
            "tags": []
          },
          "execution_count": 42
        }
      ]
    },
    {
      "cell_type": "code",
      "metadata": {
        "colab": {
          "base_uri": "https://localhost:8080/",
          "height": 204
        },
        "id": "kRHmsR6sQUIK",
        "outputId": "ef07a654-93c9-43bc-caf2-399362f37284"
      },
      "source": [
        "df = data.dropna()\n",
        "df.reset_index(level = 0, inplace = True)\n",
        "df.rename(columns={'Date': 'ds'}, inplace = True)\n",
        "next_day = df.tail(1)\n",
        "df.drop(next_day.index, inplace=True)\n",
        "df.tail()"
      ],
      "execution_count": null,
      "outputs": [
        {
          "output_type": "execute_result",
          "data": {
            "text/html": [
              "<div>\n",
              "<style scoped>\n",
              "    .dataframe tbody tr th:only-of-type {\n",
              "        vertical-align: middle;\n",
              "    }\n",
              "\n",
              "    .dataframe tbody tr th {\n",
              "        vertical-align: top;\n",
              "    }\n",
              "\n",
              "    .dataframe thead th {\n",
              "        text-align: right;\n",
              "    }\n",
              "</style>\n",
              "<table border=\"1\" class=\"dataframe\">\n",
              "  <thead>\n",
              "    <tr style=\"text-align: right;\">\n",
              "      <th></th>\n",
              "      <th>ds</th>\n",
              "      <th>add1</th>\n",
              "      <th>add2</th>\n",
              "      <th>add3</th>\n",
              "      <th>add4</th>\n",
              "      <th>add5</th>\n",
              "      <th>add6</th>\n",
              "      <th>y</th>\n",
              "    </tr>\n",
              "  </thead>\n",
              "  <tbody>\n",
              "    <tr>\n",
              "      <th>2036</th>\n",
              "      <td>2021-03-08</td>\n",
              "      <td>1835.192139</td>\n",
              "      <td>1670.942017</td>\n",
              "      <td>1724.229248</td>\n",
              "      <td>1834.727905</td>\n",
              "      <td>2.763099e+10</td>\n",
              "      <td>1834.727905</td>\n",
              "      <td>1868.048828</td>\n",
              "    </tr>\n",
              "    <tr>\n",
              "      <th>2037</th>\n",
              "      <td>2021-03-09</td>\n",
              "      <td>1868.048828</td>\n",
              "      <td>1804.266357</td>\n",
              "      <td>1835.148071</td>\n",
              "      <td>1868.048828</td>\n",
              "      <td>2.346124e+10</td>\n",
              "      <td>1868.048828</td>\n",
              "      <td>1799.166260</td>\n",
              "    </tr>\n",
              "    <tr>\n",
              "      <th>2038</th>\n",
              "      <td>2021-03-10</td>\n",
              "      <td>1873.803223</td>\n",
              "      <td>1766.490479</td>\n",
              "      <td>1868.489014</td>\n",
              "      <td>1799.166260</td>\n",
              "      <td>2.515417e+10</td>\n",
              "      <td>1799.166260</td>\n",
              "      <td>1826.194946</td>\n",
              "    </tr>\n",
              "    <tr>\n",
              "      <th>2039</th>\n",
              "      <td>2021-03-11</td>\n",
              "      <td>1843.818848</td>\n",
              "      <td>1734.617065</td>\n",
              "      <td>1798.033936</td>\n",
              "      <td>1826.194946</td>\n",
              "      <td>2.401313e+10</td>\n",
              "      <td>1826.194946</td>\n",
              "      <td>1772.102417</td>\n",
              "    </tr>\n",
              "    <tr>\n",
              "      <th>2040</th>\n",
              "      <td>2021-03-12</td>\n",
              "      <td>1839.497314</td>\n",
              "      <td>1728.980957</td>\n",
              "      <td>1826.546753</td>\n",
              "      <td>1772.102417</td>\n",
              "      <td>2.243582e+10</td>\n",
              "      <td>1772.102417</td>\n",
              "      <td>1772.376221</td>\n",
              "    </tr>\n",
              "  </tbody>\n",
              "</table>\n",
              "</div>"
            ],
            "text/plain": [
              "             ds         add1  ...         add6            y\n",
              "2036 2021-03-08  1835.192139  ...  1834.727905  1868.048828\n",
              "2037 2021-03-09  1868.048828  ...  1868.048828  1799.166260\n",
              "2038 2021-03-10  1873.803223  ...  1799.166260  1826.194946\n",
              "2039 2021-03-11  1843.818848  ...  1826.194946  1772.102417\n",
              "2040 2021-03-12  1839.497314  ...  1772.102417  1772.376221\n",
              "\n",
              "[5 rows x 8 columns]"
            ]
          },
          "metadata": {
            "tags": []
          },
          "execution_count": 15
        }
      ]
    },
    {
      "cell_type": "code",
      "metadata": {
        "id": "qC0JoG4QQnZe"
      },
      "source": [
        "train_size = 0.90 # testing only on the very last prices\n",
        "\n",
        "n_train = round(df.shape[0]*train_size)\n",
        "\n",
        "# use last days as test data\n",
        "\n",
        "# train = df[:n_train]\n",
        "# test = df[n_train:]\n",
        "\n",
        "# use random days as test data\n",
        "train = df.drop(index=list(np.random.randint(df.shape[0], size=round(df.shape[0]*(1-train_size)))))\n",
        "test = df.iloc[list(np.random.randint(df.shape[0], size=round(df.shape[0]*(1-train_size))))]"
      ],
      "execution_count": null,
      "outputs": []
    },
    {
      "cell_type": "code",
      "metadata": {
        "colab": {
          "base_uri": "https://localhost:8080/"
        },
        "id": "BfpkgGlBRB-W",
        "outputId": "171865e2-315f-4f9b-b46c-bfdb138c36a8"
      },
      "source": [
        "from fbprophet import Prophet\n",
        "prophet = Prophet()\n",
        "for n in data.columns.values[:len(data.columns.values)-1]:\n",
        "  prophet.add_regressor(n)\n",
        "prophet.fit(train)"
      ],
      "execution_count": null,
      "outputs": [
        {
          "output_type": "stream",
          "text": [
            "INFO:fbprophet:Disabling daily seasonality. Run prophet with daily_seasonality=True to override this.\n"
          ],
          "name": "stderr"
        },
        {
          "output_type": "execute_result",
          "data": {
            "text/plain": [
              "<fbprophet.forecaster.Prophet at 0x7f69ce967990>"
            ]
          },
          "metadata": {
            "tags": []
          },
          "execution_count": 17
        }
      ]
    },
    {
      "cell_type": "code",
      "metadata": {
        "colab": {
          "base_uri": "https://localhost:8080/",
          "height": 441
        },
        "id": "0n23t3GERT5e",
        "outputId": "9358ccb7-2477-4d16-fa95-cd5c377d38b5"
      },
      "source": [
        "forecast = prophet.predict(test.drop(columns=\"y\"))\n",
        "plt.style.use('ggplot')\n",
        "fig = prophet.plot(forecast)"
      ],
      "execution_count": null,
      "outputs": [
        {
          "output_type": "display_data",
          "data": {
            "image/png": "[encoded data removed]",
            "text/plain": [
              "<Figure size 720x432 with 1 Axes>"
            ]
          },
          "metadata": {
            "tags": []
          }
        }
      ]
    },
    {
      "cell_type": "code",
      "metadata": {
        "colab": {
          "base_uri": "https://localhost:8080/",
          "height": 873
        },
        "id": "inQ9bnl3X6Ju",
        "outputId": "25cb3cf5-b7d2-428b-887c-59933b0e11c3"
      },
      "source": [
        "fig = prophet.plot_components(forecast)"
      ],
      "execution_count": null,
      "outputs": [
        {
          "output_type": "display_data",
          "data": {
            "image/png": "[encoded data removed]",
            "text/plain": [
              "<Figure size 648x864 with 4 Axes>"
            ]
          },
          "metadata": {
            "tags": []
          }
        }
      ]
    },
    {
      "cell_type": "code",
      "metadata": {
        "colab": {
          "base_uri": "https://localhost:8080/",
          "height": 336,
          "referenced_widgets": [
            "85846926075344e28d1f62f736555dd0",
            "a965b63427b94fa0ba21857b20215780",
            "ee9e1d45450d470ba9604574113c5b82",
            "479fa41c7a4045f093247278d6bcb925",
            "4af937e67d3346f3b7e0199c22a02531",
            "48d446c0b62f45b1b1ead3f857c66241",
            "c5384c06a6fe4221af755cdd6d9f51fe",
            "01fee4fc05414b27ad82a2aaf9776dad",
            "e888a561cef847cd862cb9c8a40562c9",
            "87fc7ca6a38147ac8245a269403655cd",
            "7df21d4fa87d49be944e916e91c277d3",
            "b144fe6cbe6449369c46cbe5960082a9",
            "d03fb0b3906a49769e3666145f6adc91",
            "050da2bbb6d147748efc8344149f3188",
            "92cee3b268214e8a8fdde8c303308985",
            "6ec6dfe828a64bef8381e3e1726f042a"
          ]
        },
        "id": "-Mjhvb4oR_ky",
        "outputId": "408a8c68-6130-4515-ecfb-ea35ce37d602"
      },
      "source": [
        "from fbprophet.diagnostics import cross_validation\n",
        "df_cv = cross_validation(prophet, initial='730 days', period='180 days', horizon = '365 days')\n",
        "\n",
        "#https://facebook.github.io/prophet/docs/diagnostics.\n",
        "\n",
        "# cutoffs = pd.to_datetime([str(x.date()) for x in list(df.tail(3)['ds'])])\n",
        "# df_cv2 = cross_validation(prophet, cutoffs=cutoffs, horizon='365 days')\n",
        "df_cv2 = cross_validation(prophet, horizon='365 days')\n",
        "\n",
        "from fbprophet.diagnostics import performance_metrics\n",
        "df_p = performance_metrics(df_cv)\n",
        "df_p.head()"
      ],
      "execution_count": null,
      "outputs": [
        {
          "output_type": "stream",
          "text": [
            "INFO:fbprophet:Making 6 forecasts with cutoffs between 2017-09-24 00:00:00 and 2020-03-12 00:00:00\n"
          ],
          "name": "stderr"
        },
        {
          "output_type": "display_data",
          "data": {
            "application/vnd.jupyter.widget-view+json": {
              "model_id": "85846926075344e28d1f62f736555dd0",
              "version_minor": 0,
              "version_major": 2
            },
            "text/plain": [
              "HBox(children=(FloatProgress(value=0.0, max=6.0), HTML(value='')))"
            ]
          },
          "metadata": {
            "tags": []
          }
        },
        {
          "output_type": "stream",
          "text": [
            "INFO:fbprophet:Making 4 forecasts with cutoffs between 2018-09-11 12:00:00 and 2020-03-12 00:00:00\n"
          ],
          "name": "stderr"
        },
        {
          "output_type": "stream",
          "text": [
            "\n"
          ],
          "name": "stdout"
        },
        {
          "output_type": "display_data",
          "data": {
            "application/vnd.jupyter.widget-view+json": {
              "model_id": "e888a561cef847cd862cb9c8a40562c9",
              "version_minor": 0,
              "version_major": 2
            },
            "text/plain": [
              "HBox(children=(FloatProgress(value=0.0, max=4.0), HTML(value='')))"
            ]
          },
          "metadata": {
            "tags": []
          }
        },
        {
          "output_type": "stream",
          "text": [
            "\n"
          ],
          "name": "stdout"
        },
        {
          "output_type": "execute_result",
          "data": {
            "text/html": [
              "<div>\n",
              "<style scoped>\n",
              "    .dataframe tbody tr th:only-of-type {\n",
              "        vertical-align: middle;\n",
              "    }\n",
              "\n",
              "    .dataframe tbody tr th {\n",
              "        vertical-align: top;\n",
              "    }\n",
              "\n",
              "    .dataframe thead th {\n",
              "        text-align: right;\n",
              "    }\n",
              "</style>\n",
              "<table border=\"1\" class=\"dataframe\">\n",
              "  <thead>\n",
              "    <tr style=\"text-align: right;\">\n",
              "      <th></th>\n",
              "      <th>horizon</th>\n",
              "      <th>mse</th>\n",
              "      <th>rmse</th>\n",
              "      <th>mae</th>\n",
              "      <th>mape</th>\n",
              "      <th>mdape</th>\n",
              "      <th>coverage</th>\n",
              "    </tr>\n",
              "  </thead>\n",
              "  <tbody>\n",
              "    <tr>\n",
              "      <th>0</th>\n",
              "      <td>36 days</td>\n",
              "      <td>305.404359</td>\n",
              "      <td>17.475822</td>\n",
              "      <td>10.288481</td>\n",
              "      <td>0.039814</td>\n",
              "      <td>0.029238</td>\n",
              "      <td>0.885859</td>\n",
              "    </tr>\n",
              "    <tr>\n",
              "      <th>1</th>\n",
              "      <td>37 days</td>\n",
              "      <td>290.339788</td>\n",
              "      <td>17.039360</td>\n",
              "      <td>10.129894</td>\n",
              "      <td>0.039393</td>\n",
              "      <td>0.029694</td>\n",
              "      <td>0.886003</td>\n",
              "    </tr>\n",
              "    <tr>\n",
              "      <th>2</th>\n",
              "      <td>38 days</td>\n",
              "      <td>269.671991</td>\n",
              "      <td>16.421693</td>\n",
              "      <td>9.834601</td>\n",
              "      <td>0.038699</td>\n",
              "      <td>0.028506</td>\n",
              "      <td>0.890909</td>\n",
              "    </tr>\n",
              "    <tr>\n",
              "      <th>3</th>\n",
              "      <td>39 days</td>\n",
              "      <td>295.283335</td>\n",
              "      <td>17.183810</td>\n",
              "      <td>10.166204</td>\n",
              "      <td>0.039073</td>\n",
              "      <td>0.028753</td>\n",
              "      <td>0.884680</td>\n",
              "    </tr>\n",
              "    <tr>\n",
              "      <th>4</th>\n",
              "      <td>40 days</td>\n",
              "      <td>273.960392</td>\n",
              "      <td>16.551749</td>\n",
              "      <td>9.912233</td>\n",
              "      <td>0.038102</td>\n",
              "      <td>0.028506</td>\n",
              "      <td>0.888889</td>\n",
              "    </tr>\n",
              "  </tbody>\n",
              "</table>\n",
              "</div>"
            ],
            "text/plain": [
              "  horizon         mse       rmse        mae      mape     mdape  coverage\n",
              "0 36 days  305.404359  17.475822  10.288481  0.039814  0.029238  0.885859\n",
              "1 37 days  290.339788  17.039360  10.129894  0.039393  0.029694  0.886003\n",
              "2 38 days  269.671991  16.421693   9.834601  0.038699  0.028506  0.890909\n",
              "3 39 days  295.283335  17.183810  10.166204  0.039073  0.028753  0.884680\n",
              "4 40 days  273.960392  16.551749   9.912233  0.038102  0.028506  0.888889"
            ]
          },
          "metadata": {
            "tags": []
          },
          "execution_count": 20
        }
      ]
    },
    {
      "cell_type": "code",
      "metadata": {
        "colab": {
          "base_uri": "https://localhost:8080/",
          "height": 391
        },
        "id": "lr9h3RF7Sro-",
        "outputId": "8019d1e4-0c79-4ec8-b64e-619e436e575c"
      },
      "source": [
        "from fbprophet.plot import plot_cross_validation_metric\n",
        "fig = plot_cross_validation_metric(df_cv, metric='rmse')"
      ],
      "execution_count": null,
      "outputs": [
        {
          "output_type": "display_data",
          "data": {
            "image/png": "[encoded data removed]",
            "text/plain": [
              "<Figure size 720x432 with 1 Axes>"
            ]
          },
          "metadata": {
            "tags": []
          }
        }
      ]
    },
    {
      "cell_type": "code",
      "metadata": {
        "colab": {
          "base_uri": "https://localhost:8080/",
          "height": 117
        },
        "id": "I34IxpW7Syvo",
        "outputId": "0137beeb-32e5-4958-ddb7-ca0ad9460378"
      },
      "source": [
        "forecast_next_day = prophet.predict(next_day.drop(columns=\"y\"))\n",
        "forecast_next_day"
      ],
      "execution_count": null,
      "outputs": [
        {
          "output_type": "execute_result",
          "data": {
            "text/html": [
              "<div>\n",
              "<style scoped>\n",
              "    .dataframe tbody tr th:only-of-type {\n",
              "        vertical-align: middle;\n",
              "    }\n",
              "\n",
              "    .dataframe tbody tr th {\n",
              "        vertical-align: top;\n",
              "    }\n",
              "\n",
              "    .dataframe thead th {\n",
              "        text-align: right;\n",
              "    }\n",
              "</style>\n",
              "<table border=\"1\" class=\"dataframe\">\n",
              "  <thead>\n",
              "    <tr style=\"text-align: right;\">\n",
              "      <th></th>\n",
              "      <th>ds</th>\n",
              "      <th>trend</th>\n",
              "      <th>yhat_lower</th>\n",
              "      <th>yhat_upper</th>\n",
              "      <th>trend_lower</th>\n",
              "      <th>trend_upper</th>\n",
              "      <th>add1</th>\n",
              "      <th>add1_lower</th>\n",
              "      <th>add1_upper</th>\n",
              "      <th>add2</th>\n",
              "      <th>add2_lower</th>\n",
              "      <th>add2_upper</th>\n",
              "      <th>add3</th>\n",
              "      <th>add3_lower</th>\n",
              "      <th>add3_upper</th>\n",
              "      <th>add4</th>\n",
              "      <th>add4_lower</th>\n",
              "      <th>add4_upper</th>\n",
              "      <th>add5</th>\n",
              "      <th>add5_lower</th>\n",
              "      <th>add5_upper</th>\n",
              "      <th>add6</th>\n",
              "      <th>add6_lower</th>\n",
              "      <th>add6_upper</th>\n",
              "      <th>additive_terms</th>\n",
              "      <th>additive_terms_lower</th>\n",
              "      <th>additive_terms_upper</th>\n",
              "      <th>extra_regressors_additive</th>\n",
              "      <th>extra_regressors_additive_lower</th>\n",
              "      <th>extra_regressors_additive_upper</th>\n",
              "      <th>weekly</th>\n",
              "      <th>weekly_lower</th>\n",
              "      <th>weekly_upper</th>\n",
              "      <th>yearly</th>\n",
              "      <th>yearly_lower</th>\n",
              "      <th>yearly_upper</th>\n",
              "      <th>multiplicative_terms</th>\n",
              "      <th>multiplicative_terms_lower</th>\n",
              "      <th>multiplicative_terms_upper</th>\n",
              "      <th>yhat</th>\n",
              "    </tr>\n",
              "  </thead>\n",
              "  <tbody>\n",
              "    <tr>\n",
              "      <th>0</th>\n",
              "      <td>2021-03-13</td>\n",
              "      <td>284.782106</td>\n",
              "      <td>1733.268328</td>\n",
              "      <td>1793.266105</td>\n",
              "      <td>284.782106</td>\n",
              "      <td>284.782106</td>\n",
              "      <td>214.037245</td>\n",
              "      <td>214.037245</td>\n",
              "      <td>214.037245</td>\n",
              "      <td>-42.340519</td>\n",
              "      <td>-42.340519</td>\n",
              "      <td>-42.340519</td>\n",
              "      <td>-93.38979</td>\n",
              "      <td>-93.38979</td>\n",
              "      <td>-93.38979</td>\n",
              "      <td>701.333346</td>\n",
              "      <td>701.333346</td>\n",
              "      <td>701.333346</td>\n",
              "      <td>-0.167161</td>\n",
              "      <td>-0.167161</td>\n",
              "      <td>-0.167161</td>\n",
              "      <td>701.333346</td>\n",
              "      <td>701.333346</td>\n",
              "      <td>701.333346</td>\n",
              "      <td>1479.415033</td>\n",
              "      <td>1479.415033</td>\n",
              "      <td>1479.415033</td>\n",
              "      <td>1480.806467</td>\n",
              "      <td>1480.806467</td>\n",
              "      <td>1480.806467</td>\n",
              "      <td>0.845264</td>\n",
              "      <td>0.845264</td>\n",
              "      <td>0.845264</td>\n",
              "      <td>-2.236699</td>\n",
              "      <td>-2.236699</td>\n",
              "      <td>-2.236699</td>\n",
              "      <td>0.0</td>\n",
              "      <td>0.0</td>\n",
              "      <td>0.0</td>\n",
              "      <td>1764.197139</td>\n",
              "    </tr>\n",
              "  </tbody>\n",
              "</table>\n",
              "</div>"
            ],
            "text/plain": [
              "          ds       trend  ...  multiplicative_terms_upper         yhat\n",
              "0 2021-03-13  284.782106  ...                         0.0  1764.197139\n",
              "\n",
              "[1 rows x 40 columns]"
            ]
          },
          "metadata": {
            "tags": []
          },
          "execution_count": 22
        }
      ]
    },
    {
      "cell_type": "code",
      "metadata": {
        "colab": {
          "base_uri": "https://localhost:8080/"
        },
        "id": "49dp5ocCS03q",
        "outputId": "4e4d67d2-844a-4654-d8cb-c46ff1b8c07b"
      },
      "source": [
        "date_t = data.tail(1).index.date[0]\n",
        "price_t = round(float(data.tail(1).values[0][3]), 2)\n",
        "\n",
        "date_t1 = data.tail(1).index.date[0] + dt.timedelta(days=1)\n",
        "prediction = round(float(forecast_next_day['yhat'][0]), 2)\n",
        "\n",
        "print('Price (t):')\n",
        "print(f'{date_t} {target} {price_t} \\n')\n",
        "\n",
        "print('Price (t+1):')\n",
        "print(f'{date_t1} {target} {prediction}')"
      ],
      "execution_count": null,
      "outputs": [
        {
          "output_type": "stream",
          "text": [
            "Price (t):\n",
            "2021-03-13 ETH-USD 1773.71 \n",
            "\n",
            "Price (t+1):\n",
            "2021-03-14 ETH-USD 1764.2\n"
          ],
          "name": "stdout"
        }
      ]
    },
    {
      "cell_type": "markdown",
      "metadata": {
        "id": "K7MuAQhAiPJp"
      },
      "source": [
        "# Classification\n",
        "\n",
        "doesn't work"
      ]
    },
    {
      "cell_type": "code",
      "metadata": {
        "id": "WJ-KrJsKv0pl"
      },
      "source": [
        "import random\n",
        "random.seed(15)\n",
        "from sklearn.preprocessing import MinMaxScaler\n",
        "from tensorflow.keras.models import Sequential\n",
        "from tensorflow.keras.layers import Dense, Dropout, LSTM\n",
        "from numpy import concatenate"
      ],
      "execution_count": null,
      "outputs": []
    },
    {
      "cell_type": "code",
      "metadata": {
        "id": "zqKDYNjGtgnr"
      },
      "source": [
        "# Load data\n",
        "target = 'ETH-USD'\n",
        "start = dt.datetime(2015,1,1)\n",
        "end = dt.datetime.today()\n",
        "\n",
        "df = pdr.DataReader(company, 'yahoo', start, end)\n",
        "df.head()"
      ],
      "execution_count": null,
      "outputs": []
    },
    {
      "cell_type": "code",
      "metadata": {
        "id": "xWlbcUnliVmZ"
      },
      "source": [
        "df['UpDown'] = 0\n",
        "df.reset_index(level = 0, inplace = True)\n",
        "\n",
        "for index, row in df.iterrows():\n",
        "  try:\n",
        "    row['UpDown'] = 1 if row['Close'] < float(df.iloc[[index+1]]['Close']) else 0\n",
        "  except:\n",
        "    row['UpDown'] = 0\n",
        "  df.iloc[index] = row\n",
        "\n",
        "df.set_index('Date', inplace=True)\n",
        "df.tail()"
      ],
      "execution_count": null,
      "outputs": []
    },
    {
      "cell_type": "code",
      "metadata": {
        "id": "h7Fn7WfBu0wC"
      },
      "source": [
        "from sklearn.preprocessing import MinMaxScaler\n",
        "scaler = MinMaxScaler(feature_range=(0,1))\n",
        "scaled_data_raw = scaler.fit_transform(df.values)\n",
        "scaled_data_raw[-1]"
      ],
      "execution_count": null,
      "outputs": []
    },
    {
      "cell_type": "code",
      "metadata": {
        "id": "-OqS3eVEvaYw"
      },
      "source": [
        "df = df.dropna()\n",
        "df.drop(df.tail(1).index, inplace=True)\n",
        "df.shape"
      ],
      "execution_count": null,
      "outputs": []
    },
    {
      "cell_type": "code",
      "metadata": {
        "id": "5zpBNvt8vmFD"
      },
      "source": [
        "train_size = 0.90\n",
        "train_df = df.drop(index=random.sample(list(df.index), round(df.shape[0]*(1-train_size))))\n",
        "test_df = df.loc[random.sample(list(df.index), round(df.shape[0]*(1-train_size)))]\n",
        "\n",
        "train = scaled_train = scaler.fit_transform(train_df)\n",
        "test = scaled_test = scaler.fit_transform(test_df)"
      ],
      "execution_count": null,
      "outputs": []
    },
    {
      "cell_type": "code",
      "metadata": {
        "id": "mdG8Re2rvvTD"
      },
      "source": [
        "# split into input and outputs\n",
        "train_X, train_y = train[:, :-1], train[:, -1]\n",
        "test_X, test_y = test[:, :-1], test[:, -1]\n",
        "\n",
        "# reshape input to be 3D [samples, timesteps, features]\n",
        "train_X = train_X.reshape((train_X.shape[0], 1, train_X.shape[1]))\n",
        "test_X = test_X.reshape((test_X.shape[0], 1, test_X.shape[1]))\n",
        "print(train_X.shape, train_y.shape, test_X.shape, test_y.shape)"
      ],
      "execution_count": null,
      "outputs": []
    },
    {
      "cell_type": "code",
      "metadata": {
        "id": "4XxQy5mRwBJo"
      },
      "source": [
        "model = Sequential()\n",
        "model.add(LSTM(units=50, return_sequences=True, input_shape=(train_X.shape[1], train_X.shape[2])))\n",
        "model.add(Dropout(0.2))\n",
        "model.add(LSTM(units=50, return_sequences=True))\n",
        "model.add(Dropout(0.2))\n",
        "model.add(LSTM(units=50))\n",
        "model.add(Dropout(0.2))\n",
        "model.add(Dense(1, activation='sigmoid'))\n",
        "model.compile(loss='binary_crossentropy', optimizer='adam', metrics=['accuracy'])\n",
        "\n",
        "print(model.summary(), '\\n')\n",
        "history = model.fit(train_X, train_y, epochs=15, batch_size=50, validation_data=(test_X, test_y), verbose=1, shuffle=False)"
      ],
      "execution_count": null,
      "outputs": []
    },
    {
      "cell_type": "code",
      "metadata": {
        "id": "4U8cmZpBwSOd"
      },
      "source": [
        "# Evaluation of the model\n",
        "scores = model.evaluate(test_X, test_y, verbose=0)\n",
        "print(\"Accuracy: %.2f%%\" % (scores[1]*100))"
      ],
      "execution_count": null,
      "outputs": []
    },
    {
      "cell_type": "code",
      "metadata": {
        "id": "d98Kxx1BwxCh"
      },
      "source": [
        "# plot history\n",
        "plt.style.use('dark_background')\n",
        "plt.figure(figsize=(20,4))\n",
        "plt.plot(history.history['loss'], label='train')\n",
        "plt.plot(history.history['val_loss'], label='test')\n",
        "plt.legend()\n",
        "plt.show()"
      ],
      "execution_count": null,
      "outputs": []
    },
    {
      "cell_type": "code",
      "metadata": {
        "id": "zlTtd2szxFNW"
      },
      "source": [
        "# make a prediction\n",
        "yhat = model.predict(test_X)\n",
        "test_X = test_X.reshape((test_X.shape[0], test_X.shape[2]))\n",
        "\n",
        "# invert scaling for forecast\n",
        "inv_yhat = concatenate((test_X, yhat), axis=1)\n",
        "inv_yhat = scaler.inverse_transform(inv_yhat.reshape((test_X.shape[0], inv_yhat.shape[1])))\n",
        "inv_yhat = inv_yhat[:,-1]\n",
        "\n",
        "# invert scaling for actual\n",
        "test_y = test_y.reshape((len(test_y), 1))\n",
        "test_X = test_X.reshape((test_X.shape[0], test_X.shape[1]))\n",
        "inv_y = concatenate((test_X, test_y), axis=1)\n",
        "inv_y = scaler.inverse_transform(inv_y.reshape((inv_y.shape[0], inv_y.shape[1])))\n",
        "inv_y = inv_y[:,-1]\n",
        "\n",
        "# calculate RMSE\n",
        "from sklearn.metrics import mean_squared_error\n",
        "\n",
        "rmse = np.sqrt(mean_squared_error(inv_y, inv_yhat))\n",
        "print('Test RMSE: %.6f' % rmse)"
      ],
      "execution_count": null,
      "outputs": []
    },
    {
      "cell_type": "code",
      "metadata": {
        "id": "vfMB5UsSxMat"
      },
      "source": [
        "# Output\n",
        "\n",
        "# date = df.index[df['AMZN (t+1)'] == df.values[-1][-1]].date[0] + dt.timedelta(days=1)\n",
        "date = test_df.index[test_df['UpDown'] == test_df.values[-1][-1]].date[0] + dt.timedelta(days=1)\n",
        "prediction = round(float(inv_yhat[-1]), 2)\n",
        "\n",
        "print('Prediction:')\n",
        "print(f'{date} {target} {prediction}')"
      ],
      "execution_count": null,
      "outputs": []
    },
    {
      "cell_type": "code",
      "metadata": {
        "id": "-2szHoP1xcx2"
      },
      "source": [
        "scaled_last_row = np.delete(scaled_data_raw[-1], -1)\n",
        "scaled_last_row = scaled_last_row.reshape(1, 1, scaled_last_row.shape[0])\n",
        "\n",
        "prediction = model.predict(scaled_last_row)\n",
        "scaled_last_row = scaled_last_row.reshape(1, scaled_last_row.shape[2])\n",
        "\n",
        "full_last_row = concatenate((scaled_last_row, prediction), axis=1)\n",
        "full_last_row.shape\n",
        "inv_prediction = scaler.inverse_transform(full_last_row)\n",
        "inv_prediction = inv_prediction[:,-1]\n",
        "\n",
        "date_t = df.tail(1).index.date[0]\n",
        "price_t = round(float(df.tail(1)['Close']), 2)\n",
        "\n",
        "date_t1 = df.tail(1).index.date[0] + dt.timedelta(days=1)\n",
        "prediction = round(float(inv_prediction[0]), 2)\n",
        "\n",
        "print('Price (t):')\n",
        "print(f'{date_t} {target} {price_t} \\n')\n",
        "\n",
        "print('Prediction (t+1):')\n",
        "print(f'{date_t1} {target} {prediction}')"
      ],
      "execution_count": null,
      "outputs": []
    }
  ]
}